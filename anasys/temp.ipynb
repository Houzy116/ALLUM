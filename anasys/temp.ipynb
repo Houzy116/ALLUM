{
 "cells": [
  {
   "cell_type": "code",
   "execution_count": null,
   "metadata": {},
   "outputs": [],
   "source": [
    "albedo=torch.load('../data/albedo_matrix.pth')\n",
    "RF=torch.load('../data/RF_matrix.pth')\n",
    "area=torch.load('../data/area_matrix.pth')\n",
    "# 0.0014960914\n",
    "# -0.07675277252397221w/m2\n"
   ]
  },
  {
   "cell_type": "code",
   "execution_count": null,
   "metadata": {},
   "outputs": [
    {
     "data": {
      "text/plain": [
       "0.03954769360191146"
      ]
     },
     "metadata": {},
     "output_type": "display_data"
    }
   ],
   "source": [
    "5.915444126003422e-05/0.0014957747436673552"
   ]
  },
  {
   "cell_type": "code",
   "execution_count": null,
   "metadata": {},
   "outputs": [],
   "source": [
    "albedo_zero=albedo.copy()\n",
    "for i in range(17):\n",
    "    albedo_zero[i,i]=0\n",
    "RF_zero=RF.copy()\n",
    "for i in range(17):\n",
    "    RF_zero[i,i]=0\n"
   ]
  },
  {
   "cell_type": "code",
   "execution_count": null,
   "metadata": {},
   "outputs": [
    {
     "data": {
      "text/plain": [
       "8.040021384658758e-05"
      ]
     },
     "metadata": {},
     "output_type": "display_data"
    }
   ],
   "source": [
    "(albedo_zero[9,1]+albedo_zero[8,1]+albedo_zero[7,1])"
   ]
  },
  {
   "cell_type": "code",
   "execution_count": null,
   "metadata": {},
   "outputs": [
    {
     "data": {
      "text/plain": [
       "(17, 17)"
      ]
     },
     "metadata": {},
     "output_type": "display_data"
    }
   ],
   "source": [
    "area.shape"
   ]
  },
  {
   "cell_type": "code",
   "execution_count": null,
   "metadata": {},
   "outputs": [
    {
     "data": {
      "text/plain": [
       "<matplotlib.image.AxesImage at 0x7fdb412e11d0>"
      ]
     },
     "metadata": {},
     "output_type": "display_data"
    },
    {
     "data": {
      "image/png": "[encoded data removed]",
      "text/plain": [
       "<Figure size 432x288 with 1 Axes>"
      ]
     },
     "metadata": {},
     "output_type": "display_data"
    }
   ],
   "source": [
    "area[area==0]=np.nan\n",
    "plt.imshow(area)"
   ]
  },
  {
   "cell_type": "code",
   "execution_count": null,
   "metadata": {},
   "outputs": [
    {
     "name": "stdout",
     "output_type": "stream",
     "text": [
      "0 4.6688266593264416e-05 3.1213434235955653 -0.0014227581896661106 1.8536896360606914\n",
      "1 -0.0001252843940164894 -8.375886445930746 0.005082720407078091 -6.622197791604992\n",
      "2 -5.1885876928281505e-06 -0.346882959135058 0.00011644922400926979 -0.15171989255879867\n",
      "3 2.148148269043304e-05 1.4361442310333794 -0.0007111958810342821 0.9266061116061366\n",
      "4 7.01106182532385e-05 4.687244423003198 -0.002658246183829921 3.4633878313642295\n",
      "5 2.4727711206651293e-05 1.6531707940210065 -0.0010917808263372966 1.4224643494100497\n",
      "6 0.0009973946725949645 66.6808071748519 -0.03869766406663671 50.41858788169543\n",
      "7 0.00011603541497606784 7.757546078868203 -0.004810261863530469 6.267215769994601\n",
      "8 0.00024068757193163037 16.091164324750544 -0.012718078676302197 16.570187965952574\n",
      "9 0.00077958864858374 52.11938842290764 -0.031883495717588986 41.54051335100736\n",
      "10 2.5992423616116866e-05 1.7377231248328466 -0.0007641473005963147 0.9955956970253399\n",
      "11 0.0002538661065045744 16.97221507311609 -0.0077629452968612945 10.114221338957744\n",
      "12 6.354770448524505e-06 0.42484809129373424 -0.00012371872819597594 0.161191217108587\n",
      "13 1.2288625839573797e-05 0.8215559121853082 -0.0005573214461543996 0.7261254907506192\n",
      "14 0.00018111872486770153 12.10868987021621 -0.007276178074794416 9.480019855337272\n",
      "15 0.00010750668297987431 7.187357818082178 -0.003347448508410436 4.361338878494489\n",
      "16 -0.0001296342961722985 -8.666699094976016 -0.005195806027076825 6.769535296531494\n"
     ]
    }
   ],
   "source": [
    "for i in range(17):\n",
    "    print(i,albedo[i,i],albedo[i,i]/0.0014957747436673552*100,RF[i,i],RF[i,i]/(-0.07675277252397221)*100)"
   ]
  },
  {
   "cell_type": "code",
   "execution_count": null,
   "metadata": {},
   "outputs": [
    {
     "name": "stdout",
     "output_type": "stream",
     "text": [
      "5.915444126003422e-05\n",
      "-0.0027456223466676122\n"
     ]
    }
   ],
   "source": [
    "print(albedo_zero[7:9,1].sum())\n",
    "print(RF_zero[7:9,1].sum())"
   ]
  },
  {
   "cell_type": "code",
   "execution_count": null,
   "metadata": {},
   "outputs": [
    {
     "data": {
      "text/plain": [
       "1.561136825744176"
      ]
     },
     "metadata": {},
     "output_type": "display_data"
    }
   ],
   "source": [
    "0.0023351090353571635/0.0014957747436673552"
   ]
  },
  {
   "cell_type": "code",
   "execution_count": null,
   "metadata": {},
   "outputs": [
    {
     "data": {
      "text/plain": [
       "0.0023351090353571635"
      ]
     },
     "metadata": {},
     "output_type": "display_data"
    }
   ],
   "source": [
    "albedo.sum()-albedo_zero.sum()-albedo[-2,-2]-albedo[-3,-3]"
   ]
  },
  {
   "cell_type": "code",
   "execution_count": null,
   "metadata": {},
   "outputs": [
    {
     "data": {
      "text/plain": [
       "1.3445540425330105"
      ]
     },
     "metadata": {},
     "output_type": "display_data"
    }
   ],
   "source": [
    "-0.1031982505727234/(-0.07675277252397221)"
   ]
  },
  {
   "cell_type": "code",
   "execution_count": null,
   "metadata": {},
   "outputs": [
    {
     "data": {
      "text/plain": [
       "-0.1031982505727234"
      ]
     },
     "metadata": {},
     "output_type": "display_data"
    }
   ],
   "source": [
    "RF.sum()-RF_zero.sum()-RF[-2,-2]-RF[-3,-3]"
   ]
  },
  {
   "cell_type": "code",
   "execution_count": null,
   "metadata": {},
   "outputs": [
    {
     "data": {
      "text/plain": [
       "2.0564787014909536e-05"
      ]
     },
     "metadata": {},
     "output_type": "display_data"
    }
   ],
   "source": [
    "RF_zero[12,:-1].sum()+RF_zero[:-1,12].sum()-RF_zero[12,12]*2"
   ]
  },
  {
   "cell_type": "code",
   "execution_count": null,
   "metadata": {},
   "outputs": [
    {
     "data": {
      "text/plain": [
       "0.004657455477909525"
      ]
     },
     "metadata": {},
     "output_type": "display_data"
    }
   ],
   "source": [
    "RF[-3,:10].sum()"
   ]
  },
  {
   "cell_type": "code",
   "execution_count": null,
   "metadata": {},
   "outputs": [
    {
     "data": {
      "text/plain": [
       "0.004657455477909525"
      ]
     },
     "metadata": {},
     "output_type": "display_data"
    }
   ],
   "source": [
    "RF_zero[-3,:10].sum()"
   ]
  },
  {
   "cell_type": "code",
   "execution_count": null,
   "metadata": {},
   "outputs": [
    {
     "name": "stdout",
     "output_type": "stream",
     "text": [
      "-0.010038489840754814\n",
      "-0.0005283415705660429\n"
     ]
    }
   ],
   "source": [
    "'''\n",
    "对比Ghimire和IPCC（CMIP5/6模拟） 1700-2005或者1750-2019土地变化都导致0.15w/m2\n",
    "大概-0.00049 w/m2/year\n",
    "\n",
    "'''\n",
    "#除雪之外的土地转换-草原到草地5种类别的类内转换-森林间的转换+湿地和水体的转换-农田/自然混合类型和农田的转换-裸土相关转换\n",
    "all=-0.0171195344778834+0.010872907442790845+0.00034958612726890444+4.1229797907037555e-05+0.0004747767470713228-0.004657455477909525\n",
    "print(all)\n",
    "print(all/19)"
   ]
  },
  {
   "cell_type": "code",
   "execution_count": null,
   "metadata": {},
   "outputs": [],
   "source": [
    "torch.save(dif_al_tranf2,'./albedo_matrix.pth')"
   ]
  },
  {
   "cell_type": "code",
   "execution_count": null,
   "metadata": {},
   "outputs": [
    {
     "data": {
      "text/plain": [
       "-0.07675277252397178"
      ]
     },
     "metadata": {},
     "output_type": "display_data"
    }
   ],
   "source": [
    "dif_al_tranf_use=dif_al_tranf2.copy()\n",
    "dif_al_tranf_use[np.isnan(dif_al_tranf_use)]=0\n",
    "dif_al_tranf_use.sum()"
   ]
  },
  {
   "cell_type": "code",
   "execution_count": null,
   "metadata": {},
   "outputs": [
    {
     "data": {
      "text/plain": [
       "-0.12574560560673484"
      ]
     },
     "metadata": {},
     "output_type": "display_data"
    }
   ],
   "source": [
    "dif_al_tranf_use[:-1,:-1].sum()"
   ]
  },
  {
   "cell_type": "code",
   "execution_count": null,
   "metadata": {},
   "outputs": [
    {
     "data": {
      "text/plain": [
       "[1, 2, 3, 4, 5]"
      ]
     },
     "metadata": {},
     "output_type": "display_data"
    }
   ],
   "source": [
    "list(range(1,18))[0:5]"
   ]
  },
  {
   "cell_type": "code",
   "execution_count": null,
   "metadata": {},
   "outputs": [],
   "source": [
    "for i in range(17):\n",
    "    dif_al_tranf_use[i,i]=0"
   ]
  },
  {
   "cell_type": "code",
   "execution_count": null,
   "metadata": {},
   "outputs": [
    {
     "data": {
      "text/plain": [
       "0.006370125925444621"
      ]
     },
     "metadata": {},
     "output_type": "display_data"
    }
   ],
   "source": [
    "dif_al_tranf_use[-3,:].sum()+dif_al_tranf_use[:,-3].sum()"
   ]
  },
  {
   "cell_type": "code",
   "execution_count": null,
   "metadata": {},
   "outputs": [
    {
     "data": {
      "text/plain": [
       "0.004823371859094665"
      ]
     },
     "metadata": {},
     "output_type": "display_data"
    }
   ],
   "source": [
    "RF[-3,:].sum()-RF[-3,-3]"
   ]
  },
  {
   "cell_type": "code",
   "execution_count": null,
   "metadata": {},
   "outputs": [],
   "source": [
    "for i in range(17):\n",
    "    RF[i,i]=0"
   ]
  },
  {
   "cell_type": "code",
   "execution_count": null,
   "metadata": {},
   "outputs": [
    {
     "data": {
      "text/plain": [
       "0.0051408864308935005"
      ]
     },
     "metadata": {},
     "output_type": "display_data"
    }
   ],
   "source": [
    "np.nansum(RF[-3,:])+np.nansum(RF[:,-3])"
   ]
  },
  {
   "cell_type": "code",
   "execution_count": null,
   "metadata": {},
   "outputs": [
    {
     "data": {
      "text/plain": [
       "-0.14166142909554058"
      ]
     },
     "metadata": {},
     "output_type": "display_data"
    }
   ],
   "source": [
    "0.010872907442790845/-0.07675277252397221"
   ]
  }
 ],
 "metadata": {
  "language_info": {
   "name": "python"
  }
 },
 "nbformat": 4,
 "nbformat_minor": 2
}
